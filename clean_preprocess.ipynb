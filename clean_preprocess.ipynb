{
 "cells": [
  {
   "cell_type": "code",
   "execution_count": 9,
   "metadata": {
    "collapsed": true
   },
   "outputs": [],
   "source": [
    "from pycorenlp import StanfordCoreNLP\n",
    "import os\n",
    "from multiprocessing import Pool\n",
    "import time\n",
    "import re"
   ]
  },
  {
   "cell_type": "code",
   "execution_count": 54,
   "metadata": {
    "collapsed": true
   },
   "outputs": [],
   "source": [
    "stop_words_dict = ['therapy', 'effect', 'dose', 'dosage', 'week', 'patient', 'long-term', 'short-term', 'data', \n",
    "                   'treatment', 'onset', 'frequency', 'study', 'drug', 'reaction', 'trial', 'mm',\n",
    "                  'program', 'food', 'day', 'time', 'hour', 'reason', 'death', 'physician', 'administration', \n",
    "                   'minute', 'msec', 'class', 'doctor', 'nurse', 'year', 'mg', 'take', 'age', 'value', 'average',\n",
    "                  'ml', 'complication', 'corticosteroid', 'surgery', 'help', 'overdose', 'check', 'report', 'receive',\n",
    "                  'ast', 'alt']\n",
    "strip_words_dict = ['follow', 'include', 'im', 'mi']"
   ]
  },
  {
   "cell_type": "code",
   "execution_count": 20,
   "metadata": {
    "collapsed": true
   },
   "outputs": [],
   "source": [
    "nlp = StanfordCoreNLP('http://localhost:9000')"
   ]
  },
  {
   "cell_type": "code",
   "execution_count": 21,
   "metadata": {
    "collapsed": false
   },
   "outputs": [],
   "source": [
    "drug_name_file = open('valid_drugs_com_web_names.txt','r')\n",
    "drug_names = drug_name_file.readlines()\n",
    "drug_names = [drug_name.replace('\\n','') for drug_name in drug_names]"
   ]
  },
  {
   "cell_type": "code",
   "execution_count": 59,
   "metadata": {
    "collapsed": true
   },
   "outputs": [],
   "source": [
    "def clean_grams(drugname):\n",
    "    save_filepath = 'drugs/cleaned-grams/' + drugname + '.txt'\n",
    "    read_filepath = 'drugs/grams/' + drugname + '.txt'\n",
    "    file = open(read_filepath)\n",
    "    texts = file.readlines()\n",
    "    grams = []\n",
    "    \n",
    "    for text in texts:\n",
    "        stop_flag = False\n",
    "        text = text.rstrip('\\n')\n",
    "        text = re.sub(r'[\\W]', ' ', text)\n",
    "        while True:\n",
    "            try:\n",
    "                output = nlp.annotate(text, properties={\n",
    "                  'annotators': 'lemma',\n",
    "                  'outputFormat': 'json'\n",
    "                  })\n",
    "                break\n",
    "            except:\n",
    "                print drugname + ': Failed in parsing...'\n",
    "                time.sleep(1)\n",
    "        tokens = output['sentences'][0]['tokens']\n",
    "        text_lemma = [token['lemma'] for token in tokens]\n",
    "        for stop_word in stop_words_dict:\n",
    "            if stop_word in text_lemma:\n",
    "                stop_flag = True\n",
    "                break\n",
    "        if stop_flag:\n",
    "            continue\n",
    "        for strip_word in strip_words_dict:\n",
    "            if strip_word in text_lemma:\n",
    "                text_lemma.remove(strip_word)\n",
    "        if text_lemma and text_lemma != ['symptom']:\n",
    "            grams.append(' '.join(text_lemma))\n",
    "    \n",
    "    grams = list(set(grams))\n",
    "    \n",
    "    if grams:\n",
    "        with open(save_filepath, 'w') as file:\n",
    "            file.write(\"\\n\".join(grams))\n",
    "            file.close()"
   ]
  },
  {
   "cell_type": "code",
   "execution_count": 58,
   "metadata": {
    "collapsed": false
   },
   "outputs": [],
   "source": [
    "clean_grams(drug_names[300])"
   ]
  },
  {
   "cell_type": "code",
   "execution_count": 49,
   "metadata": {
    "collapsed": false
   },
   "outputs": [
    {
     "data": {
      "text/plain": [
       "'amphotec'"
      ]
     },
     "execution_count": 49,
     "metadata": {},
     "output_type": "execute_result"
    }
   ],
   "source": [
    "drug_names[300]"
   ]
  },
  {
   "cell_type": "code",
   "execution_count": null,
   "metadata": {
    "collapsed": true
   },
   "outputs": [],
   "source": []
  }
 ],
 "metadata": {
  "kernelspec": {
   "display_name": "Python [Root]",
   "language": "python",
   "name": "Python [Root]"
  },
  "language_info": {
   "codemirror_mode": {
    "name": "ipython",
    "version": 2
   },
   "file_extension": ".py",
   "mimetype": "text/x-python",
   "name": "python",
   "nbconvert_exporter": "python",
   "pygments_lexer": "ipython2",
   "version": "2.7.12"
  }
 },
 "nbformat": 4,
 "nbformat_minor": 0
}
