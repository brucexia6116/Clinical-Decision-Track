{
 "cells": [
  {
   "cell_type": "code",
   "execution_count": 2,
   "metadata": {
    "collapsed": true,
    "deletable": true,
    "editable": true
   },
   "outputs": [],
   "source": [
    "from pycorenlp import StanfordCoreNLP\n",
    "import os\n",
    "from multiprocessing import Pool\n",
    "import time\n",
    "import re"
   ]
  },
  {
   "cell_type": "code",
   "execution_count": 3,
   "metadata": {
    "collapsed": true,
    "deletable": true,
    "editable": true
   },
   "outputs": [],
   "source": [
    "stop_words_dict = ['therapy', 'effect', 'dose', 'dosage', 'week', 'patient', 'term', 'data', 'decision',\n",
    "                   'treatment', 'onset', 'frequency', 'study', 'drug', 'reaction', 'trial', 'mm',\n",
    "                  'program', 'food', 'day', 'time', 'hour', 'reason', 'death', 'physician', 'administration', \n",
    "                   'minute', 'msec', 'class', 'doctor', 'nurse', 'year', 'mg', 'take', 'age', 'value', 'average',\n",
    "                  'ml', 'complication', 'corticosteroid', 'surgery', 'help', 'overdose', 'check', 'report', 'receive',\n",
    "                  'ast', 'alt', 'person']\n",
    "strip_words_dict = ['follow', 'include', 'im', 'mi', 'common']"
   ]
  },
  {
   "cell_type": "code",
   "execution_count": 4,
   "metadata": {
    "collapsed": true,
    "deletable": true,
    "editable": true
   },
   "outputs": [],
   "source": [
    "nlp = StanfordCoreNLP('http://localhost:9000')"
   ]
  },
  {
   "cell_type": "code",
   "execution_count": 5,
   "metadata": {
    "collapsed": false,
    "deletable": true,
    "editable": true
   },
   "outputs": [],
   "source": [
    "drug_name_file = open('valid_drugs_com_web_names.txt','r')\n",
    "drug_names = drug_name_file.readlines()\n",
    "drug_names = [drug_name.replace('\\n','') for drug_name in drug_names]"
   ]
  },
  {
   "cell_type": "code",
   "execution_count": 18,
   "metadata": {
    "collapsed": true,
    "deletable": true,
    "editable": true
   },
   "outputs": [],
   "source": [
    "def clean_grams(drugname):\n",
    "    save_filepath = 'drugs/cleaned-grams/' + drugname + '.txt'\n",
    "    if not os.path.exists(save_filepath):\n",
    "        read_filepath = 'drugs/grams/' + drugname + '.txt'\n",
    "        file = open(read_filepath)\n",
    "        texts = file.readlines()\n",
    "        grams = []\n",
    "\n",
    "        for text in texts:\n",
    "            stop_flag = False\n",
    "            text = text.rstrip('\\n')\n",
    "            text = re.sub(r'[\\W]', ' ', text)\n",
    "            while True:\n",
    "                try:\n",
    "                    output = nlp.annotate(text, properties={\n",
    "                      'annotators': 'lemma',\n",
    "                      'outputFormat': 'json'\n",
    "                      })\n",
    "                    break\n",
    "                except:\n",
    "                    print drugname + ': Failed in parsing...'\n",
    "                    time.sleep(1)\n",
    "            if output['sentences']:\n",
    "                tokens = output['sentences'][0]['tokens']\n",
    "                text_lemma = [token['lemma'] for token in tokens]\n",
    "                for stop_word in stop_words_dict:\n",
    "                    if stop_word in text_lemma:\n",
    "                        stop_flag = True\n",
    "                        break\n",
    "                if stop_flag:\n",
    "                    continue\n",
    "                for strip_word in strip_words_dict:\n",
    "                    if strip_word in text_lemma:\n",
    "                        text_lemma.remove(strip_word)\n",
    "                if text_lemma and text_lemma != ['symptom']:\n",
    "                    grams.append(' '.join(text_lemma))\n",
    "\n",
    "        grams = list(set(grams))\n",
    "\n",
    "        if grams:\n",
    "            with open(save_filepath, 'w') as file:\n",
    "                file.write(\"\\n\".join(grams))\n",
    "                file.close()"
   ]
  },
  {
   "cell_type": "code",
   "execution_count": 7,
   "metadata": {
    "collapsed": false,
    "deletable": true,
    "editable": true
   },
   "outputs": [
    {
     "name": "stdout",
     "output_type": "stream",
     "text": [
      "Waiting for 9 tasks to complete...\n",
      "Waiting for 9 tasks to complete...\n",
      "Waiting for 9 tasks to complete...\n",
      "Waiting for 9 tasks to complete...\n",
      "Waiting for 9 tasks to complete...\n",
      "Waiting for 9 tasks to complete...\n",
      "Waiting for 9 tasks to complete...\n",
      "Waiting for 9 tasks to complete...\n",
      "Waiting for 9 tasks to complete...\n",
      "Waiting for 9 tasks to complete...\n",
      "All tasks completed!\n",
      "rilpivirine: Failed in parsing...\n",
      "rilpivirine: Failed in parsing...\n",
      "rilpivirine: Failed in parsing...\n",
      "rilpivirine: Failed in parsing...\n",
      "rilpivirine: Failed in parsing...\n",
      "rilpivirine: Failed in parsing...\n",
      "rilpivirine: Failed in parsing...\n",
      "rilpivirine: Failed in parsing...\n",
      "rilpivirine: Failed in parsing...\n"
     ]
    }
   ],
   "source": [
    "pool = Pool(processes=16)\n",
    "result = pool.map_async(clean_grams, drug_names, chunksize=int(len(drug_names)/8))\n",
    "while (True):\n",
    "  if (result.ready()): break\n",
    "  remaining = result._number_left\n",
    "  print \"Waiting for\", remaining, \"tasks to complete...\"\n",
    "  time.sleep(1)\n",
    "print 'All tasks completed!'\n",
    "pool.close()"
   ]
  },
  {
   "cell_type": "code",
   "execution_count": 19,
   "metadata": {
    "collapsed": false,
    "deletable": true,
    "editable": true
   },
   "outputs": [],
   "source": [
    "for drugname in drug_names:\n",
    "    clean_grams(drugname)"
   ]
  },
  {
   "cell_type": "code",
   "execution_count": null,
   "metadata": {
    "collapsed": true
   },
   "outputs": [],
   "source": []
  }
 ],
 "metadata": {
  "kernelspec": {
   "display_name": "Python 2",
   "language": "python",
   "name": "python2"
  },
  "language_info": {
   "codemirror_mode": {
    "name": "ipython",
    "version": 2
   },
   "file_extension": ".py",
   "mimetype": "text/x-python",
   "name": "python",
   "nbconvert_exporter": "python",
   "pygments_lexer": "ipython2",
   "version": "2.7.12"
  }
 },
 "nbformat": 4,
 "nbformat_minor": 0
}
