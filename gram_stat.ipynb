{
 "cells": [
  {
   "cell_type": "code",
   "execution_count": 4,
   "metadata": {
    "collapsed": true
   },
   "outputs": [],
   "source": [
    "import os"
   ]
  },
  {
   "cell_type": "code",
   "execution_count": 9,
   "metadata": {
    "collapsed": true
   },
   "outputs": [],
   "source": [
    "drug_name_file = open('valid_drugs_com_web_names.txt','r')\n",
    "drug_names = drug_name_file.readlines()\n",
    "drug_names = [drug_name.replace('\\n','') for drug_name in drug_names]"
   ]
  },
  {
   "cell_type": "code",
   "execution_count": 12,
   "metadata": {
    "collapsed": false
   },
   "outputs": [
    {
     "name": "stdout",
     "output_type": "stream",
     "text": [
      "Total grams: 730741 \n",
      "Less than four grams: 647807\n",
      "Four grams: 49121\n",
      "Five grams: 19898\n",
      "More than five grams: 13915\n"
     ]
    }
   ],
   "source": [
    "less_four_gram = 0\n",
    "four_gram = 0\n",
    "five_gram = 0\n",
    "more_five_gram = 0\n",
    "for drug_name in drug_names:\n",
    "    read_filepath = 'drugs/cleaned-grams/' + drug_name + '.txt'\n",
    "    file = open(read_filepath)\n",
    "    texts = file.readlines()\n",
    "    for text in texts:\n",
    "        text = text.rstrip('\\n')\n",
    "        text_len = len(text.split())\n",
    "        if text_len <=3:\n",
    "            less_four_gram += 1\n",
    "        elif text_len == 4:\n",
    "            four_gram += 1\n",
    "        elif text_len == 5:\n",
    "            five_gram += 1\n",
    "        else:\n",
    "            more_five_gram += 1\n",
    "total_gram = less_four_gram + four_gram + five_gram + more_five_gram\n",
    "print ('Total grams: {} \\nLess than four grams: {}\\nFour grams: {}\\nFive grams: {}\\nMore than five grams: {}'.format(total_gram, less_four_gram, four_gram, five_gram, more_five_gram))"
   ]
  },
  {
   "cell_type": "code",
   "execution_count": null,
   "metadata": {
    "collapsed": true
   },
   "outputs": [],
   "source": []
  }
 ],
 "metadata": {
  "kernelspec": {
   "display_name": "Python 2",
   "language": "python",
   "name": "python2"
  },
  "language_info": {
   "codemirror_mode": {
    "name": "ipython",
    "version": 2
   },
   "file_extension": ".py",
   "mimetype": "text/x-python",
   "name": "python",
   "nbconvert_exporter": "python",
   "pygments_lexer": "ipython2",
   "version": "2.7.12"
  }
 },
 "nbformat": 4,
 "nbformat_minor": 2
}
