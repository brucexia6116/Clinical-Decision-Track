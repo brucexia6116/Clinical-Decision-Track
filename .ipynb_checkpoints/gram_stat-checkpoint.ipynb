{
 "cells": [
  {
   "cell_type": "code",
   "execution_count": 2,
   "metadata": {
    "collapsed": true
   },
   "outputs": [],
   "source": [
    "import os"
   ]
  },
  {
   "cell_type": "code",
   "execution_count": 3,
   "metadata": {
    "collapsed": true
   },
   "outputs": [],
   "source": [
    "drug_name_file = open('valid_drugs_com_web_names.txt','r')\n",
    "drug_names = drug_name_file.readlines()\n",
    "drug_names = [drug_name.replace('\\n','') for drug_name in drug_names]"
   ]
  },
  {
   "cell_type": "code",
   "execution_count": null,
   "metadata": {
    "collapsed": true
   },
   "outputs": [],
   "source": [
    "less_four_gram = 0\n",
    "four_gram = 0\n",
    "five_gram = 0\n",
    "more_five_gram = 0\n",
    "for drug_name in drug_names:\n",
    "    read_filepath = 'drugs/cleaned-grams/' + drugname + '.txt'\n",
    "    file = open(read_filepath)\n",
    "    texts = file.readlines()\n",
    "    for text in texts:\n",
    "        text = text.rstrip('\\n')\n",
    "        text_len = len(text.split())\n",
    "        if text_len <=3:\n",
    "            less_four_gram += 1\n",
    "        elif text_len == 4:\n",
    "            four_gram += 1\n",
    "        elif text+len == 5:\n",
    "            five_gram += 1\n",
    "        else:\n",
    "            more_five_gram += 1\n",
    "total_gram = less_four_gram + four_gram + five_gram + more_five_gram\n",
    "print ('Total gram: {} \\n Less than four grams: {}\\n four grams: {}\\n Five grams: {}\\n More than five grams: {}'.format(total_gram, less_four_gram, four_gram, five_gram, more_five_gram))"
   ]
  }
 ],
 "metadata": {
  "kernelspec": {
   "display_name": "Python 2",
   "language": "python",
   "name": "python2"
  },
  "language_info": {
   "codemirror_mode": {
    "name": "ipython",
    "version": 2
   },
   "file_extension": ".py",
   "mimetype": "text/x-python",
   "name": "python",
   "nbconvert_exporter": "python",
   "pygments_lexer": "ipython2",
   "version": "2.7.12"
  }
 },
 "nbformat": 4,
 "nbformat_minor": 2
}
