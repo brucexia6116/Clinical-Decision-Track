{
 "cells": [
  {
   "cell_type": "code",
   "execution_count": 48,
   "metadata": {
    "collapsed": true
   },
   "outputs": [],
   "source": [
    "from pycorenlp import StanfordCoreNLP\n",
    "nlp = StanfordCoreNLP('http://localhost:9000')"
   ]
  },
  {
   "cell_type": "code",
   "execution_count": 61,
   "metadata": {
    "collapsed": true
   },
   "outputs": [],
   "source": [
    "text=(\"Short-term effects have included sodium retention-related weight gain and fluid accumulation, hyperglycemia and glucose intolerance, hypokalemia, gastrointestinal upset and ulceration, reversible depression of the hypothalamus-pituitary-adrenal axis, and mood changes including mild euphoria and insomnia, nervousness, restlessness, mania, catatonia, depression, delusions, hallucinations, and violent behavior.\")"
   ]
  },
  {
   "cell_type": "code",
   "execution_count": 62,
   "metadata": {
    "collapsed": false
   },
   "outputs": [
    {
     "name": "stdout",
     "output_type": "stream",
     "text": [
      "{u'index': 1, u'word': u'Short-term', u'after': u' ', u'pos': u'JJ', u'characterOffsetEnd': 10, u'characterOffsetBegin': 0, u'originalText': u'Short-term', u'before': u''}\n"
     ]
    }
   ],
   "source": [
    "output = nlp.annotate(text, properties={\n",
    "  'annotators': 'pos',\n",
    "  'outputFormat': 'json'\n",
    "  })\n",
    "print(output['sentences'][0]['tokens'][0])"
   ]
  },
  {
   "cell_type": "code",
   "execution_count": null,
   "metadata": {
    "collapsed": true
   },
   "outputs": [],
   "source": [
    "grams = []\n",
    "for sentence in sentences:\n",
    "    tokens = sentence['words']\n",
    "    index = 0\n",
    "    while index < len(words):\n",
    "        if 'NN' in words[index][1]['PartOfSpeech']:\n",
    "            gram = words[index][0]\n",
    "            offset = -1\n",
    "            while 'JJ' in words[index+offset][1]['PartOfSpeech']:\n",
    "                gram = words[index+offset][0] + ' ' + gram\n",
    "                offset -= 1\n",
    "            index += 1\n",
    "            while 'NN' in words[index][1]['PartOfSpeech'] or 'IN' in words[index][1]['PartOfSpeech']:\n",
    "                gram += ' ' + words[index][0]\n",
    "                index += 1\n",
    "            grams.append(gram)\n",
    "        index += 1\n",
    "print grams"
   ]
  }
 ],
 "metadata": {
  "anaconda-cloud": {},
  "kernelspec": {
   "display_name": "Python [Root]",
   "language": "python",
   "name": "Python [Root]"
  },
  "language_info": {
   "codemirror_mode": {
    "name": "ipython",
    "version": 2
   },
   "file_extension": ".py",
   "mimetype": "text/x-python",
   "name": "python",
   "nbconvert_exporter": "python",
   "pygments_lexer": "ipython2",
   "version": "2.7.12"
  }
 },
 "nbformat": 4,
 "nbformat_minor": 0
}
