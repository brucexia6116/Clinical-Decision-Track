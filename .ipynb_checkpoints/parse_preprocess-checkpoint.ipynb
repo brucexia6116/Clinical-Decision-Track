{
 "cells": [
  {
   "cell_type": "code",
   "execution_count": 8,
   "metadata": {
    "collapsed": true,
    "deletable": true,
    "editable": true
   },
   "outputs": [],
   "source": [
    "from pycorenlp import StanfordCoreNLP\n",
    "import os\n",
    "from multiprocessing import Pool\n",
    "import time"
   ]
  },
  {
   "cell_type": "code",
   "execution_count": 2,
   "metadata": {
    "collapsed": true,
    "deletable": true,
    "editable": true
   },
   "outputs": [],
   "source": [
    "nlp = StanfordCoreNLP('http://localhost:9000')"
   ]
  },
  {
   "cell_type": "code",
   "execution_count": 3,
   "metadata": {
    "collapsed": true
   },
   "outputs": [],
   "source": [
    "drug_name_file = open('drugs_com_web_names.txt','r')\n",
    "drug_names = drug_name_file.readlines()\n",
    "drug_names = [drug_name.replace('\\n','') for drug_name in drug_names]"
   ]
  },
  {
   "cell_type": "code",
   "execution_count": 4,
   "metadata": {
    "collapsed": false,
    "deletable": true,
    "editable": true
   },
   "outputs": [],
   "source": [
    "def extract_grams(drugname):\n",
    "    filepath = \n",
    "    file = open(filepath)\n",
    "    texts = file.readlines()\n",
    "    grams = []\n",
    "    for text in texts:\n",
    "        if len(text.split()) > 3:\n",
    "            output = nlp.annotate(text, properties={\n",
    "              'annotators': 'pos',\n",
    "              'outputFormat': 'json'\n",
    "              })\n",
    "            for sentence in output['sentences']:\n",
    "                tokens = sentence['tokens']\n",
    "                index = 0\n",
    "                while index < len(tokens):\n",
    "                    if ('NN' in tokens[index]['pos']) or ('VBG' in tokens[index]['pos']):\n",
    "                        gram = tokens[index]['word'].lower()\n",
    "                        offset = -1\n",
    "                        while (index + offset >= 0) and (('JJ' in tokens[index+offset]['pos']) or \n",
    "                                ('VBG' in tokens[index+offset]['pos']) or ('VBN' in tokens[index+offset]['pos'])):\n",
    "                            if ('included' in tokens[index+offset]['word'].lower()) or ('including' in tokens[index+offset]['word'].lower()):\n",
    "                                break\n",
    "                            gram = tokens[index+offset]['word'].lower() + ' ' + gram\n",
    "                            offset -= 1\n",
    "                        index += 1\n",
    "                        while (index < len(tokens)) and (('NN' in tokens[index]['pos']) or \n",
    "                            ('IN' in tokens[index]['pos'] and (('JJ' in tokens[index+1]['pos']) or\n",
    "                            ('DT' in tokens[index+1]['pos']) or ('NN' in tokens[index+1]['pos'])))):\n",
    "                            if 'IN' in tokens[index]['pos']:\n",
    "                                gram += ' ' + tokens[index]['word'].lower()\n",
    "                                index += 1\n",
    "                                while (index < len(tokens)) and (('JJ' in tokens[index]['pos']) \n",
    "                                                                 or ('DT' in tokens[index]['pos'])):\n",
    "                                    gram += ' ' + tokens[index]['word'].lower()\n",
    "                                    index += 1\n",
    "                            else:\n",
    "                                gram += ' ' + tokens[index]['word'].lower()\n",
    "                                index += 1\n",
    "                        grams.append(gram)\n",
    "                    index += 1\n",
    "        else:\n",
    "            grams.append(text.rstrip('\\n').lower())\n",
    "    if grams:\n",
    "        with open(filepath, 'w') as file:\n",
    "            file.write(str(grams))\n",
    "            file.close()\n",
    "#     print grams"
   ]
  },
  {
   "cell_type": "code",
   "execution_count": 9,
   "metadata": {
    "collapsed": false,
    "deletable": true,
    "editable": true
   },
   "outputs": [],
   "source": [
    "drug_filepaths = ['drugs/preprocessed/' + drug_name + '.txt' for drug_name in drug_names]"
   ]
  },
  {
   "cell_type": "code",
   "execution_count": 7,
   "metadata": {
    "collapsed": false
   },
   "outputs": [
    {
     "data": {
      "text/plain": [
       "['drugs/preprocessed/a-hydrocort.txt',\n",
       " 'drugs/preprocessed/a-methapred.txt',\n",
       " 'drugs/preprocessed/abacavir and lamivudine.txt']"
      ]
     },
     "execution_count": 7,
     "metadata": {},
     "output_type": "execute_result"
    }
   ],
   "source": [
    "pool = Pool()\n",
    "drug_filepaths = drug_filepaths[:3]\n",
    "result = pool.map_async(extract_grams, drug_filepaths, chunksize=int(len(drug_filepaths)/8))\n",
    "while (True):\n",
    "  if (result.ready()): break\n",
    "  remaining = result._number_left\n",
    "  print \"Waiting for\", remaining, \"tasks to complete...\"\n",
    "  time.sleep(1)\n",
    "print 'All tasks completed!'\n",
    "pool.close()"
   ]
  },
  {
   "cell_type": "code",
   "execution_count": null,
   "metadata": {
    "collapsed": true
   },
   "outputs": [],
   "source": []
  }
 ],
 "metadata": {
  "anaconda-cloud": {},
  "kernelspec": {
   "display_name": "Python 2",
   "language": "python",
   "name": "python2"
  },
  "language_info": {
   "codemirror_mode": {
    "name": "ipython",
    "version": 2
   },
   "file_extension": ".py",
   "mimetype": "text/x-python",
   "name": "python",
   "nbconvert_exporter": "python",
   "pygments_lexer": "ipython2",
   "version": "2.7.12"
  }
 },
 "nbformat": 4,
 "nbformat_minor": 0
}
