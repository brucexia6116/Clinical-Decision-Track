{
 "cells": [
  {
   "cell_type": "code",
   "execution_count": 103,
   "metadata": {
    "collapsed": true,
    "deletable": true,
    "editable": true
   },
   "outputs": [],
   "source": [
    "from pycorenlp import StanfordCoreNLP\n",
    "import os\n",
    "from multiprocessing import Pool\n",
    "import time"
   ]
  },
  {
   "cell_type": "code",
   "execution_count": 104,
   "metadata": {
    "collapsed": true,
    "deletable": true,
    "editable": true
   },
   "outputs": [],
   "source": [
    "nlp = StanfordCoreNLP('http://localhost:9000')"
   ]
  },
  {
   "cell_type": "code",
   "execution_count": 3,
   "metadata": {
    "collapsed": true,
    "deletable": true,
    "editable": true
   },
   "outputs": [],
   "source": [
    "drug_name_file = open('drugs_com_web_names.txt','r')\n",
    "drug_names = drug_name_file.readlines()\n",
    "drug_names = [drug_name.replace('\\n','') for drug_name in drug_names]"
   ]
  },
  {
   "cell_type": "code",
   "execution_count": 9,
   "metadata": {
    "collapsed": false,
    "deletable": true,
    "editable": true
   },
   "outputs": [],
   "source": [
    "def extract_grams(drugname):\n",
    "    save_filepath = 'drugs/grams/' + drugname + '.txt'\n",
    "    if not os.path.exists(save_filepath):\n",
    "        read_filepath = 'drugs/preprocessed/' + drugname + '.txt'\n",
    "        file = open(read_filepath)\n",
    "        texts = file.readlines()\n",
    "        grams = []\n",
    "        for text in texts:\n",
    "            if len(text.split()) > 3:\n",
    "                while True:\n",
    "                    try:\n",
    "                        output = nlp.annotate(text, properties={\n",
    "                          'annotators': 'pos',\n",
    "                          'outputFormat': 'json'\n",
    "                          })\n",
    "                        break\n",
    "                    except:\n",
    "                        print drugname + ': Failed in parsing...'\n",
    "                        time.sleep(1)\n",
    "                for sentence in output['sentences']:\n",
    "                    tokens = sentence['tokens']\n",
    "                    index = 0\n",
    "                    while index < len(tokens):\n",
    "                        if ('NN' in tokens[index]['pos']) or ('VBG' in tokens[index]['pos']):\n",
    "                            gram = tokens[index]['word'].lower()\n",
    "                            offset = -1\n",
    "                            while (index + offset >= 0) and (('JJ' in tokens[index+offset]['pos']) or \n",
    "                                    ('VBG' in tokens[index+offset]['pos']) or ('VBN' in tokens[index+offset]['pos'])):\n",
    "                                if ('included' in tokens[index+offset]['word'].lower()) or ('including' in tokens[index+offset]['word'].lower()):\n",
    "                                    break\n",
    "                                gram = tokens[index+offset]['word'].lower() + ' ' + gram\n",
    "                                offset -= 1\n",
    "                            index += 1\n",
    "                            while (index < len(tokens)) and (('NN' in tokens[index]['pos']) or \n",
    "                                ('IN' in tokens[index]['pos'])):\n",
    "                                if 'IN' in tokens[index]['pos']:\n",
    "                                    if (index + 1 < len(tokens)) and (('JJ' in tokens[index+1]['pos']) \n",
    "                                        or('DT' in tokens[index+1]['pos']) or ('NN' in tokens[index+1]['pos'])):\n",
    "                                        gram += ' ' + tokens[index]['word'].lower()\n",
    "                                        index += 1\n",
    "                                    else:\n",
    "                                        break\n",
    "                                    while (index < len(tokens)) and (('JJ' in tokens[index]['pos']) \n",
    "                                                                     or ('DT' in tokens[index]['pos'])):\n",
    "                                        gram += ' ' + tokens[index]['word'].lower()\n",
    "                                        index += 1\n",
    "                                else:\n",
    "                                    gram += ' ' + tokens[index]['word'].lower()\n",
    "                                    index += 1\n",
    "                            grams.append(gram)\n",
    "                        index += 1\n",
    "            else:\n",
    "                grams.append(text.rstrip('\\n').lower())\n",
    "\n",
    "        if grams:\n",
    "            with open(save_filepath, 'w') as file:\n",
    "                file.write(\"\\n\".join(grams))\n",
    "                file.close()"
   ]
  },
  {
   "cell_type": "code",
   "execution_count": 6,
   "metadata": {
    "collapsed": false,
    "deletable": true,
    "editable": true
   },
   "outputs": [],
   "source": [
    "# pool = Pool()\n",
    "# result = pool.map_async(extract_grams, drug_names, chunksize=int(len(drug_names)/8))\n",
    "# while (True):\n",
    "#   if (result.ready()): break\n",
    "#   remaining = result._number_left\n",
    "#   print \"Waiting for\", remaining, \"tasks to complete...\"\n",
    "#   time.sleep(1)\n",
    "# print 'All tasks completed!'\n",
    "# pool.close()"
   ]
  },
  {
   "cell_type": "code",
   "execution_count": 11,
   "metadata": {
    "collapsed": false,
    "deletable": true,
    "editable": true
   },
   "outputs": [],
   "source": [
    "extract_grams('a-hydrocort')"
   ]
  },
  {
   "cell_type": "code",
   "execution_count": 26,
   "metadata": {
    "collapsed": false,
    "deletable": true,
    "editable": true
   },
   "outputs": [],
   "source": [
    "for drugname in drug_names:\n",
    "    extract_grams(drugname)"
   ]
  },
  {
   "cell_type": "code",
   "execution_count": 48,
   "metadata": {
    "collapsed": false,
    "deletable": true,
    "editable": true
   },
   "outputs": [],
   "source": [
    "for drugname in drug_names:\n",
    "    filename = 'drugs/preprocessed/' + drugname + '.txt'\n",
    "    if os.stat(filename).st_size == 0:\n",
    "        print drugname"
   ]
  },
  {
   "cell_type": "code",
   "execution_count": 25,
   "metadata": {
    "collapsed": false,
    "deletable": true,
    "editable": true
   },
   "outputs": [
    {
     "data": {
      "text/plain": [
       "'Nervous system side effects have included headache (), fatigue (), and somnolence ( to ).'"
      ]
     },
     "execution_count": 25,
     "metadata": {},
     "output_type": "execute_result"
    }
   ],
   "source": [
    "import re\n",
    "# my_str = 'Nervous system side effects have included headache (16%), fatigue (5.6%), and somnolence (5% to 20).  Somnolence tends to be dose-related and generally occurs more frequently with doses higher than 10 mg per day.  Other nervous system side effects include dizziness (1.8), insomnia (1.5%), and nervousness (1.1%).  Post marketing reports have included aggression reaction and convulsions.'\n",
    "my_str = 'Nervous system side effects have included headache (16%), fatigue (), and somnolence (5% to 20%).'\n",
    "my_str = re.sub('\\d+[.]*\\d*[%]*', '', my_str)\n",
    "my_str"
   ]
  },
  {
   "cell_type": "code",
   "execution_count": 106,
   "metadata": {
    "collapsed": false
   },
   "outputs": [
    {
     "data": {
      "text/plain": [
       "{u'sentences': [{u'index': 0,\n",
       "   u'tokens': [{u'after': u' ',\n",
       "     u'before': u'',\n",
       "     u'characterOffsetBegin': 0,\n",
       "     u'characterOffsetEnd': 9,\n",
       "     u'index': 1,\n",
       "     u'lemma': u'increase',\n",
       "     u'originalText': u'increased',\n",
       "     u'pos': u'VBN',\n",
       "     u'word': u'increased'},\n",
       "    {u'after': u'',\n",
       "     u'before': u' ',\n",
       "     u'characterOffsetBegin': 10,\n",
       "     u'characterOffsetEnd': 18,\n",
       "     u'index': 2,\n",
       "     u'lemma': u'apetite',\n",
       "     u'originalText': u'apetites',\n",
       "     u'pos': u'NNS',\n",
       "     u'word': u'apetites'}]}]}"
      ]
     },
     "execution_count": 106,
     "metadata": {},
     "output_type": "execute_result"
    }
   ],
   "source": [
    "output = nlp.annotate('increased apetites', properties={\n",
    "                          'annotators': 'lemma',\n",
    "                          'outputFormat': 'json'\n",
    "                          })\n",
    "output"
   ]
  },
  {
   "cell_type": "code",
   "execution_count": null,
   "metadata": {
    "collapsed": true
   },
   "outputs": [],
   "source": []
  }
 ],
 "metadata": {
  "anaconda-cloud": {},
  "kernelspec": {
   "display_name": "Python [Root]",
   "language": "python",
   "name": "Python [Root]"
  },
  "language_info": {
   "codemirror_mode": {
    "name": "ipython",
    "version": 2
   },
   "file_extension": ".py",
   "mimetype": "text/x-python",
   "name": "python",
   "nbconvert_exporter": "python",
   "pygments_lexer": "ipython2",
   "version": "2.7.12"
  }
 },
 "nbformat": 4,
 "nbformat_minor": 0
}
