{
 "cells": [
  {
   "cell_type": "code",
   "execution_count": 48,
   "metadata": {
    "collapsed": true
   },
   "outputs": [],
   "source": [
    "from pycorenlp import StanfordCoreNLP\n",
    "nlp = StanfordCoreNLP('http://localhost:9000')"
   ]
  },
  {
   "cell_type": "code",
   "execution_count": 68,
   "metadata": {
    "collapsed": true
   },
   "outputs": [],
   "source": [
    "import os\n",
    "filepath = '/Users/jindi/Dropbox-MIT/Clinical-Decision-Track/drugs/preprocessed/a-hydrocort.txt'\n",
    "file = open(filepath)\n",
    "texts = file.readlines()"
   ]
  },
  {
   "cell_type": "code",
   "execution_count": 102,
   "metadata": {
    "collapsed": false
   },
   "outputs": [
    {
     "name": "stdout",
     "output_type": "stream",
     "text": [
      "[u'corticosteroid complications', u'dose', u'duration of therapy', u'adverse effects', u'lower pharmacologic dosages', u'adverse effects', u'duration of corticosteroid therapy', u'occurring during short-term therapy', u'weeks', u'occurring during long-term therapy', u'weeks', u'short-term effects', u'sodium', u'retention-related weight gain', u'fluid accumulation', u'hyperglycemia', u'glucose intolerance', u'hypokalemia', u'gastrointestinal upset', u'ulceration', u'reversible depression of the hypothalamus-pituitary-adrenal axis', u'mood changes', u'mild euphoria', u'insomnia', u'nervousness', u'restlessness', u'mania', u'catatonia', u'depression', u'delusions', u'hallucinations', u'violent behavior', u'long-term effects', u'hypothalamus-pituitary-adrenal activity suppression', u'cushingoid appearance', u'hirsutism', u'virilism', u'impotence', u'menstrual irregularities', u'peptic ulcer disease', u'cataracts', u'intraocular pressure/glaucoma', u'myopathy', u'osteoporosis', u'vertebral compression fractures', u'cardiovascular effects', u'hypertension', u'congestive heart failure', u'long-term fluid retention', u'direct vascular effects', u'corticosteroid therapy', u'corticosteroid therapy', u'glucose intolerance', u'reducing', u'utilization of glucose in tissues', u'increasing', u'increasing hepatic glucose output', u'diabetes mellitus', u'requiring diet modifications', u'hypoglycemic agents', u'patients', u'adrenal suppression', u'months after long-term corticosteroid therapy', u'giving corticosteroids', u'day', u'other day', u'adrenal suppression', u'corticosteroid therapy', u'supplemental corticosteroid therapy during times of physical stress', u'endocrine effects', u'decreased glucose tolerance', u'hyperglycemia', u'diabetes-like symptoms', u'hypothalamus-pituitary-adrenal activity', u'months', u'following long-term corticosteroid administration', u'cushingoid appearance', u'chronic therapy', u'hirsutism', u'virilism', u'impotence', u'menstrual irregularities', u'gastrointestinal effects of corticosteroid therapy', u'gastrointestinal upset', u'nausea', u'vomiting', u'peptic ulcer disease', u'pancreatitis', u'ulcerative esophagitis', u'gastrointestinal perforation', u'hemorrhage', u'gastrointestinal effects', u'occurring during corticosteroid therapy', u'nausea', u'vomiting', u'dyspepsia', u'anorexia', u'peptic ulcer disease', u'long-term corticosteroid therapy', u'routine prophylactic therapy', u'individuals', u'aluminum/magnesium-containing antacids', u'gi complaints without significant drug interactions', u'metabolic adverse effects', u'hypernatremia', u'hypokalemia', u'fluid retention', u'negative nitrogen balance', u'increased blood urea nitrogen concentration', u'corticosteroid therapy', u'glucocorticoids', u'secretion of thyrotropin', u'tsh', u'musculoskeletal effects of corticosteroid therapy', u'myopathy', u'osteoporosis', u'vertebral compression fractures', u'tendon rupture', u'achilles tendon', u'aseptic necrosis of bone', u'aseptic necrosis', u'femoral head', u'corticosteroid myopathy', u'weakness', u'wasting of the proximal limb', u'girdle muscles', u'been reversible following cessation of therapy', u'corticosteroids', u'intestinal absorption', u'increase', u'urinary excretion of calcium', u'bone resorption', u'bone loss', u'postmenopausal females', u'risk of loss of bone density', u'percent of elderly patients', u'corticosteroids', u'years', u'vertebral compression fractures', u'immunologic effects of corticosteroid therapy', u'impairment in cell-mediated immunity', u'susceptibility', u'parasitic infections', u'immune response', u'skin tests', u'hepatic effects', u'reversible increases in serum transaminase', u'alkaline phosphatase concentrations', u'corticosteroid therapy', u'hematologic effects', u'thrombocytopenia', u'lymphopenia', u'platelet alterations', u'thrombolic events', u'dermatologic effects', u'corticosteroid therapy', u'increased ease', u'bruising', u'ecchymosis', u'petechiae striae', u'delayed wound healing', u'acne', u'ocular changes with corticosteroid therapy', u'increased intraocular pressure', u'glaucoma', u'posterior subcapsular cataracts', u'psychiatric effects', u'psychoses', u'personality', u'behavioral changes', u'pseudotumor cerebri', u'corticosteroid therapy', u'bronchospasm after intravenous hydrocortisone', u'active ingredient', u'a-hydrocort', u'patients with aspirin-sensitive respiratory disease', u'challenge study with oral aspirin', u'mg hydrocortisone', u'respiratory reactions', u'aspirin', u'patients', u'patients', u'hydrocortisone challenge', u'respiratory reactions', u'patients', u'administered hydrocortisone', u'aspirin-sensitive patient', u'bronchospasm', u'naso-ocular reactions', u'hydrocortisone', u'minimal bronchospasm with methylprednisolone', u'following aspirin desensitization', u'maintenance aspirin therapy', u'patient', u'similar symptoms', u'hydrocortisone', u'case reports of hypersensitivity reactions', u'corticosteroids', u'side effects', u'bronchospasm', u'shock', u'urticaria', u'angioedema', u'cross-reactivity between aspirin', u'hydrocortisone in patients with aspirin-sensitive respiratory disease', u'mechanism in patients with asthma', u'data', u'anaphylaxis', u'rapid injection', u'infusion of a high dose of corticosteroid', u'reactions', u'nonimmune mechanism', u'pseudorheumatism', u'glucocorticoid-withdrawal syndrome', u'adrenal insufficiency', u'withdrawal of corticosteroids', u'patients', u'anorexia', u'nausea', u'vomiting', u'lethargy', u'headache', u'fever', u'arthralgias', u'myalgias', u'postural hypotension', u'symptoms', u'corticosteroid therapy', 'aggression', 'anxiety', 'blurred vision', u'decrease in the amount of urine', 'dizziness', 'dry mouth', u'pounding', u'irregular heartbeat', u'pulse', 'headache', 'irregular heartbeats', 'irritability', 'mental depression', 'mood changes', 'nervousness', 'noisy, rattling breathing', u'numbness', u'tingling in the arms', u'legs', u'pounding in the ears', 'restlessness', 'shaking', u'swelling of the fingers', u'hands', u'feet', u'lower legs', u'trouble thinking', u'speaking', u'walking', 'trouble breathing', u'troubled breathing at rest', 'trouble sleeping', 'weight gain', u'stomach cramping', u'burning', u'stomach pain', 'backache', u'tarry stools', 'cough or hoarseness', u'darkening of the skin', 'decrease in height', 'decreased vision', 'diarrhea', 'eye pain', 'eye tearing', u'facial hair growth in females', 'fainting', 'fever or chills', 'flushed, dry skin', 'fractures', 'fruit-like breath odor', u'round face', u'neck', u'trunk', u'heartburn', u'indigestion', 'increased hunger', 'increased thirst', 'increased urination', 'loss of appetite', u'loss of sexual desire', u'ability', u'side pain', 'menstrual irregularities', u'muscle pain', u'tenderness', u'muscle wasting', u'weakness', 'nausea', u'pain in the', u'ribs', u'arms', u'legs', u'difficult urination', 'skin rash', 'sweating', 'trouble healing', 'unexplained weight loss', u'unusual tiredness', u'weakness', 'vision changes', 'vomiting', u'vomiting of material', u'coffee grounds', 'increased appetite', u'abnormal fat deposits on the face', u'neck', u'trunk', 'acne', 'dry scalp', u'lightening of normal skin color', 'red face', u'reddish purple lines on the arms', u'face', u'legs', u'trunk', u'groin', u'swelling of the stomach area', u'thinning of the scalp hair']\n"
     ]
    }
   ],
   "source": [
    "grams = []\n",
    "for text in texts:\n",
    "    if len(text.split()) > 3:\n",
    "        output = nlp.annotate(text, properties={\n",
    "          'annotators': 'pos',\n",
    "          'outputFormat': 'json'\n",
    "          })\n",
    "        for sentence in output['sentences']:\n",
    "            tokens = sentence['tokens']\n",
    "            index = 0\n",
    "            while index < len(tokens):\n",
    "                if ('NN' in tokens[index]['pos']) or ('VBG' in tokens[index]['pos']):\n",
    "                    gram = tokens[index]['word'].lower()\n",
    "                    offset = -1\n",
    "                    while (index + offset >= 0) and (('JJ' in tokens[index+offset]['pos']) or \n",
    "                            ('VBG' in tokens[index+offset]['pos']) or ('VBN' in tokens[index+offset]['pos'])):\n",
    "                        if ('included' in tokens[index+offset]['word'].lower()) or ('including' in tokens[index+offset]['word'].lower()):\n",
    "                            break\n",
    "                        gram = tokens[index+offset]['word'].lower() + ' ' + gram\n",
    "                        offset -= 1\n",
    "                    index += 1\n",
    "                    while (index < len(tokens)) and (('NN' in tokens[index]['pos']) or \n",
    "                        ('IN' in tokens[index]['pos'] and (('JJ' in tokens[index+1]['pos']) or\n",
    "                        ('DT' in tokens[index+1]['pos']) or ('NN' in tokens[index+1]['pos'])))):\n",
    "                        if 'IN' in tokens[index]['pos']:\n",
    "                            gram += ' ' + tokens[index]['word'].lower()\n",
    "                            index += 1\n",
    "                            while (index < len(tokens)) and (('JJ' in tokens[index]['pos']) \n",
    "                                                             or ('DT' in tokens[index]['pos'])):\n",
    "                                gram += ' ' + tokens[index]['word'].lower()\n",
    "                                index += 1\n",
    "                        else:\n",
    "                            gram += ' ' + tokens[index]['word'].lower()\n",
    "                            index += 1\n",
    "                    grams.append(gram)\n",
    "                index += 1\n",
    "    else:\n",
    "        grams.append(text.rstrip('\\n').lower())\n",
    "print grams"
   ]
  },
  {
   "cell_type": "code",
   "execution_count": null,
   "metadata": {
    "collapsed": true
   },
   "outputs": [],
   "source": []
  }
 ],
 "metadata": {
  "anaconda-cloud": {},
  "kernelspec": {
   "display_name": "Python [Root]",
   "language": "python",
   "name": "Python [Root]"
  },
  "language_info": {
   "codemirror_mode": {
    "name": "ipython",
    "version": 2
   },
   "file_extension": ".py",
   "mimetype": "text/x-python",
   "name": "python",
   "nbconvert_exporter": "python",
   "pygments_lexer": "ipython2",
   "version": "2.7.12"
  }
 },
 "nbformat": 4,
 "nbformat_minor": 0
}
