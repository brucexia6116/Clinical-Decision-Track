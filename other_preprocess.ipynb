{
 "cells": [
  {
   "cell_type": "code",
   "execution_count": 2,
   "metadata": {
    "collapsed": true,
    "deletable": true,
    "editable": true
   },
   "outputs": [],
   "source": [
    "import os\n",
    "import csv"
   ]
  },
  {
   "cell_type": "code",
   "execution_count": 2,
   "metadata": {
    "collapsed": true,
    "deletable": true,
    "editable": true
   },
   "outputs": [],
   "source": [
    "# make dict to link drug names and corresponding side effects link\n",
    "base_url = 'https://www.drugs.com/sfx/'\n",
    "drug_name_file = open('./drugs_com_web_names.txt','r')\n",
    "drug_names = drug_name_file.readlines()\n",
    "drug_names = [drug_name.replace('\\n','') for drug_name in drug_names]\n",
    "drug_name_link = {}\n",
    "for drug_name in drug_names:\n",
    "    drug_name_link[drug_name] = base_url + drug_name.replace(' ', '-') + '-side-effects.html'"
   ]
  },
  {
   "cell_type": "code",
   "execution_count": 4,
   "metadata": {
    "collapsed": false,
    "deletable": true,
    "editable": true
   },
   "outputs": [
    {
     "data": {
      "text/plain": [
       "'https://www.drugs.com/sfx/a-hydrocort-side-effects.html'"
      ]
     },
     "execution_count": 4,
     "metadata": {},
     "output_type": "execute_result"
    }
   ],
   "source": [
    "drug_name_link['a-hydrocort']"
   ]
  },
  {
   "cell_type": "code",
   "execution_count": 33,
   "metadata": {
    "collapsed": false,
    "deletable": true,
    "editable": true
   },
   "outputs": [],
   "source": [
    "with open('drug_com_web_names_links.csv', 'wb') as csv_file:\n",
    "    writer = csv.writer(csv_file)\n",
    "    for key, value in drug_name_link.items():\n",
    "       writer.writerow([key, value])"
   ]
  },
  {
   "cell_type": "code",
   "execution_count": 40,
   "metadata": {
    "collapsed": true,
    "deletable": true,
    "editable": true
   },
   "outputs": [],
   "source": [
    "with open('drug_com_web_names_links.csv', 'rb') as csv_file:\n",
    "    reader = csv.reader(csv_file)\n",
    "    drug_com_web_names_links = dict(reader)"
   ]
  },
  {
   "cell_type": "code",
   "execution_count": 62,
   "metadata": {
    "collapsed": false,
    "deletable": true,
    "editable": true
   },
   "outputs": [],
   "source": [
    "none_drugnames = []\n",
    "special_drugnames = []\n",
    "valid_drugnames = []\n",
    "for k,v in drug_com_web_names_links.iteritems():\n",
    "    if v == 'None':\n",
    "        none_drugnames.append(k)\n",
    "    elif v == 'S':\n",
    "        special_drugnames.append(k)\n",
    "    else:\n",
    "        valid_drugnames.append(k)"
   ]
  },
  {
   "cell_type": "code",
   "execution_count": 63,
   "metadata": {
    "collapsed": false,
    "deletable": true,
    "editable": true
   },
   "outputs": [
    {
     "name": "stdout",
     "output_type": "stream",
     "text": [
      "5244\n",
      "39\n",
      "109\n"
     ]
    }
   ],
   "source": [
    "print len(valid_drugnames)\n",
    "print len(special_drugnames)\n",
    "print len(none_drugnames)"
   ]
  },
  {
   "cell_type": "code",
   "execution_count": 43,
   "metadata": {
    "collapsed": true,
    "deletable": true,
    "editable": true
   },
   "outputs": [],
   "source": [
    "wrong_drugname = []\n",
    "for drugname in valid_drugnames + special_drugnames:\n",
    "    filepath = 'drugs/original/{}.txt'.format(drugname)\n",
    "    drug_file = open(filepath, 'r')\n",
    "    drug_raw = drug_file.read()\n",
    "    drug_file.close()\n",
    "\n",
    "    if 'The page you requested is either undergoing' in drug_raw:\n",
    "        wrong_drugname.append(drugname)\n",
    "        \n",
    "with open('drugs/wrongName.txt', 'w') as file:\n",
    "    file.write(\"\\n\".join(wrong_drugname))\n",
    "    file.close()"
   ]
  },
  {
   "cell_type": "code",
   "execution_count": 11,
   "metadata": {
    "collapsed": false,
    "deletable": true,
    "editable": true
   },
   "outputs": [
    {
     "name": "stdout",
     "output_type": "stream",
     "text": [
      "5283 5282\n"
     ]
    },
    {
     "data": {
      "text/plain": [
       "{'.DS_Store'}"
      ]
     },
     "execution_count": 11,
     "metadata": {},
     "output_type": "execute_result"
    }
   ],
   "source": [
    "full_files = os.listdir('drugs/cleaned-grams')\n",
    "drug_name_file = open('valid_drugs_com_web_names.txt','r')\n",
    "drug_names = drug_name_file.readlines()\n",
    "drug_names = [drug_name.replace('\\n','') for drug_name in drug_names]\n",
    "part_files = [drug_name + '.txt' for drug_name in drug_names]\n",
    "print len(full_files),len(part_files)\n",
    "set(full_files) - set(part_files)"
   ]
  },
  {
   "cell_type": "code",
   "execution_count": 57,
   "metadata": {
    "collapsed": false,
    "deletable": true,
    "editable": true
   },
   "outputs": [],
   "source": [
    "# remove none drugs\n",
    "os.remove('drugs/original/shark liver oil.txt')"
   ]
  },
  {
   "cell_type": "code",
   "execution_count": 66,
   "metadata": {
    "collapsed": false,
    "deletable": true,
    "editable": true
   },
   "outputs": [],
   "source": [
    "with open('valid_drugs_com_web_names.txt', 'w') as file:\n",
    "    file.write(\"\\n\".join(sorted(valid_drugnames+special_drugnames)))\n",
    "    file.close()"
   ]
  },
  {
   "cell_type": "code",
   "execution_count": null,
   "metadata": {
    "collapsed": true,
    "deletable": true,
    "editable": true
   },
   "outputs": [],
   "source": []
  }
 ],
 "metadata": {
  "anaconda-cloud": {},
  "kernelspec": {
   "display_name": "Python 2",
   "language": "python",
   "name": "python2"
  },
  "language_info": {
   "codemirror_mode": {
    "name": "ipython",
    "version": 2
   },
   "file_extension": ".py",
   "mimetype": "text/x-python",
   "name": "python",
   "nbconvert_exporter": "python",
   "pygments_lexer": "ipython2",
   "version": "2.7.12"
  }
 },
 "nbformat": 4,
 "nbformat_minor": 0
}
